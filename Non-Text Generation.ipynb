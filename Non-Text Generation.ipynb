{
 "cells": [
  {
   "cell_type": "code",
   "execution_count": 1,
   "id": "sticky-organizer",
   "metadata": {},
   "outputs": [],
   "source": [
    "import pandas as pd\n",
    "import numpy as np\n",
    "from sklearn.model_selection import train_test_split\n",
    "import random\n",
    "import seaborn as sns\n",
    "import matplotlib.pyplot as plt\n",
    "from tqdm import tqdm"
   ]
  },
  {
   "cell_type": "code",
   "execution_count": 2,
   "id": "sized-salon",
   "metadata": {},
   "outputs": [],
   "source": [
    "cards = pd.read_csv(\"cards.csv\")"
   ]
  },
  {
   "cell_type": "code",
   "execution_count": 3,
   "id": "olympic-service",
   "metadata": {},
   "outputs": [],
   "source": [
    "train_cards, test_cards = train_test_split(cards, test_size = 0.3)"
   ]
  },
  {
   "cell_type": "code",
   "execution_count": 4,
   "id": "protective-judges",
   "metadata": {},
   "outputs": [],
   "source": [
    "random.seed(0)\n",
    "\n",
    "def generate_feature(feature, dependencies):\n",
    "    keys = list(dependencies.keys())    \n",
    "    cards_copy = cards.copy()\n",
    "    \n",
    "    for key in keys:\n",
    "        cards_copy = cards_copy[(cards_copy[key] == dependencies[key])]\n",
    "    try:\n",
    "        return random.choice(list(cards_copy[feature]))\n",
    "    except IndexError as e:\n",
    "        print(feature, dependencies)\n",
    "        raise(e)\n",
    "\n",
    "def generate_nontext(cards, dependency_graph):\n",
    "    \"\"\"Note: keys in the dependency graph point to a list of that node's parents in the \n",
    "    dependency graph. This code assumes that the dependency_graphs keys are in order such that a node\n",
    "    comes before all the node's children.\"\"\"\n",
    "    new_card = {}\n",
    "    keys = list(dependency_graph.keys())\n",
    "    for feature in keys:\n",
    "        dependencies = {parent : new_card[parent] for parent in dependency_graph[feature]}\n",
    "        new_card[feature] = generate_feature(feature, dependencies)\n",
    "    return new_card\n"
   ]
  },
  {
   "cell_type": "code",
   "execution_count": 5,
   "id": "decimal-village",
   "metadata": {},
   "outputs": [],
   "source": [
    "dependency_graph = {\"rarity\":[],\n",
    "                    \"color\":[],\n",
    "                    \"type\":[\"rarity\", \"color\"],\n",
    "                    \"mana_cost\":[\"type\", \"color\"],\n",
    "                    \"power\":[\"mana_cost\", \"type\"],\n",
    "                    \"toughness\":[\"mana_cost\", \"type\"],\n",
    "                    \"loyalty\":[\"mana_cost\", \"type\"]}"
   ]
  },
  {
   "cell_type": "code",
   "execution_count": 6,
   "id": "departmental-exchange",
   "metadata": {},
   "outputs": [
    {
     "name": "stderr",
     "output_type": "stream",
     "text": [
      "100%|██████████████████████████████████████████████████████████████████████████████| 5241/5241 [01:34<00:00, 55.64it/s]\n"
     ]
    }
   ],
   "source": [
    "rarities = []\n",
    "colors = []\n",
    "card_types = []\n",
    "mana_costs = []\n",
    "powers = []\n",
    "toughnesses = []\n",
    "loyalties = []\n",
    "\n",
    "for _ in tqdm(range(test_cards.shape[0])):\n",
    "    card = generate_nontext(train_cards, dependency_graph)\n",
    "    rarities.append(card[\"rarity\"])\n",
    "    colors.append(card[\"color\"])\n",
    "    card_types.append(card[\"type\"])\n",
    "    mana_costs.append(card[\"mana_cost\"])\n",
    "    powers.append(card[\"power\"])\n",
    "    toughnesses.append(card[\"toughness\"])\n",
    "    loyalties.append(card[\"loyalty\"])\n",
    "    \n",
    "generated_cards = pd.DataFrame({\"rarity\":rarities, \n",
    "                                \"color\":colors,\n",
    "                                \"type\":card_types,\n",
    "                                \"mana_cost\":mana_costs,\n",
    "                                \"power\":powers,\n",
    "                                \"toughness\":toughnesses,\n",
    "                                \"loyalty\":loyalties})"
   ]
  },
  {
   "cell_type": "code",
   "execution_count": 14,
   "id": "martial-bedroom",
   "metadata": {},
   "outputs": [],
   "source": [
    "def count_same(row, df):\n",
    "    df = df.copy()\n",
    "    for s in [\n",
    "        \"rarity\", \n",
    "        \"color\", \n",
    "        \"type\",\n",
    "        \"mana_cost\",\n",
    "        #\"power\",\n",
    "        #\"toughness\",\n",
    "        #\"loyalty\"\n",
    "    ]:\n",
    "        df = df[(df[s] == row[s])]\n",
    "    return df.shape[0]"
   ]
  },
  {
   "cell_type": "code",
   "execution_count": 15,
   "id": "extensive-welcome",
   "metadata": {},
   "outputs": [
    {
     "name": "stderr",
     "output_type": "stream",
     "text": [
      "C:\\Users\\jayma\\miniconda3\\lib\\site-packages\\seaborn\\_decorators.py:36: FutureWarning: Pass the following variables as keyword args: x, y. From version 0.12, the only valid positional argument will be `data`, and passing other arguments without an explicit keyword will result in an error or misinterpretation.\n",
      "  warnings.warn(\n"
     ]
    },
    {
     "data": {
      "text/plain": [
       "<AxesSubplot:>"
      ]
     },
     "execution_count": 15,
     "metadata": {},
     "output_type": "execute_result"
    },
    {
     "data": {
      "image/png": "[encoded data removed]",
      "text/plain": [
       "<Figure size 432x288 with 1 Axes>"
      ]
     },
     "metadata": {
      "needs_background": "light"
     },
     "output_type": "display_data"
    }
   ],
   "source": [
    "test_same, gen_same = [],[]\n",
    "unique_generated_cards = generated_cards.drop_duplicates()\n",
    "for index, row in unique_generated_cards.iterrows():\n",
    "    test_same.append(count_same(row, test_cards))\n",
    "    gen_same.append(count_same(row, generated_cards))\n",
    "\n",
    "sns.scatterplot(test_same, gen_same)"
   ]
  },
  {
   "cell_type": "code",
   "execution_count": 17,
   "id": "fiscal-profit",
   "metadata": {},
   "outputs": [
    {
     "data": {
      "text/plain": [
       "0.8145129996119519"
      ]
     },
     "execution_count": 17,
     "metadata": {},
     "output_type": "execute_result"
    }
   ],
   "source": [
    "margin = 9\n",
    "reasonably_close = [g <= t+margin and g >= t-margin for t, g in zip(test_same, gen_same)]\n",
    "np.mean(reasonably_close)"
   ]
  },
  {
   "cell_type": "code",
   "execution_count": 10,
   "id": "narrow-intensity",
   "metadata": {},
   "outputs": [
    {
     "name": "stdout",
     "output_type": "stream",
     "text": [
      "0 1 0.013193636010865347\n",
      "0 2 0.005820721769499418\n",
      "0 3 0.0019402405898331393\n",
      "0 4 0.002328288707799767\n",
      "0 5 0.0015521924718665113\n",
      "1 1 0.008149010477299184\n",
      "1 2 0.006984866123399301\n",
      "1 3 0.004656577415599534\n",
      "1 4 0.004268529297632906\n",
      "1 6 0.0015521924718665113\n",
      "1 9 0.0015521924718665113\n",
      "2 1 0.0038804811796662787\n",
      "2 2 0.004656577415599534\n",
      "2 3 0.0011641443538998836\n",
      "2 4 0.0007760962359332557\n",
      "2 5 0.0011641443538998836\n",
      "2 7 0.0015521924718665113\n",
      "2 8 0.002716336825766395\n",
      "2 9 0.002328288707799767\n",
      "2 12 0.002328288707799767\n",
      "2 14 0.004268529297632906\n",
      "3 1 0.0031043849437330227\n",
      "3 2 0.002328288707799767\n",
      "3 3 0.0038804811796662787\n",
      "3 4 0.0034924330616996507\n",
      "3 5 0.0015521924718665113\n",
      "4 1 0.0011641443538998836\n",
      "4 2 0.0007760962359332557\n",
      "4 3 0.0031043849437330227\n",
      "4 4 0.0011641443538998836\n",
      "4 5 0.006208769887466045\n",
      "4 6 0.0011641443538998836\n",
      "4 7 0.002328288707799767\n",
      "4 14 0.010089251067132324\n",
      "5 1 0.0011641443538998836\n",
      "5 2 0.0007760962359332557\n",
      "5 3 0.0011641443538998836\n",
      "5 4 0.0015521924718665113\n",
      "5 6 0.0038804811796662787\n",
      "5 9 0.0031043849437330227\n",
      "5 10 0.0034924330616996507\n",
      "5 11 0.002328288707799767\n",
      "6 4 0.0015521924718665113\n",
      "6 5 0.0011641443538998836\n",
      "6 10 0.002716336825766395\n",
      "6 13 0.0031043849437330227\n",
      "6 14 0.004656577415599534\n",
      "6 21 0.007760962359332557\n",
      "7 3 0.0019402405898331393\n",
      "7 6 0.0015521924718665113\n",
      "8 8 0.0031043849437330227\n",
      "8 10 0.0031043849437330227\n",
      "9 8 0.0031043849437330227\n",
      "9 10 0.0038804811796662787\n",
      "9 12 0.004656577415599534\n",
      "10 6 0.0015521924718665113\n",
      "10 8 0.0031043849437330227\n",
      "10 14 0.00543267365153279\n",
      "10 16 0.005820721769499418\n",
      "11 14 0.004268529297632906\n",
      "11 17 0.002716336825766395\n",
      "13 10 0.002716336825766395\n",
      "13 13 0.0038804811796662787\n",
      "13 14 0.00543267365153279\n",
      "13 18 0.006596818005432673\n",
      "13 19 0.002716336825766395\n",
      "14 13 0.004268529297632906\n",
      "14 25 0.002716336825766395\n",
      "16 12 0.004268529297632906\n",
      "16 24 0.00892510671323244\n",
      "17 11 0.0031043849437330227\n",
      "17 17 0.00892510671323244\n",
      "17 22 0.006984866123399301\n",
      "20 10 0.002716336825766395\n",
      "20 16 0.005044625533566162\n",
      "20 30 0.004268529297632906\n",
      "21 16 0.005820721769499418\n",
      "21 41 0.013581684128831975\n",
      "24 9 0.002716336825766395\n",
      "24 15 0.002716336825766395\n",
      "25 22 0.002328288707799767\n",
      "26 27 0.008149010477299184\n",
      "27 41 0.006596818005432673\n",
      "29 23 0.004656577415599534\n",
      "30 27 0.0031043849437330227\n",
      "31 40 0.0038804811796662787\n",
      "33 22 0.0038804811796662787\n",
      "33 45 0.005044625533566162\n",
      "34 46 0.004268529297632906\n",
      "35 44 0.005044625533566162\n",
      "36 55 0.0038804811796662787\n",
      "37 36 0.002328288707799767\n",
      "38 33 0.0034924330616996507\n",
      "39 36 0.004656577415599534\n",
      "40 45 0.004268529297632906\n",
      "42 30 0.004268529297632906\n",
      "42 44 0.0038804811796662787\n",
      "42 48 0.005044625533566162\n",
      "43 31 0.0034924330616996507\n",
      "43 35 0.00543267365153279\n",
      "43 47 0.00543267365153279\n",
      "43 54 0.0038804811796662787\n",
      "44 35 0.0034924330616996507\n",
      "46 49 0.0034924330616996507\n",
      "47 34 0.0031043849437330227\n",
      "47 38 0.0038804811796662787\n",
      "52 51 0.0034924330616996507\n",
      "52 58 0.004268529297632906\n",
      "53 49 0.011253395421032208\n",
      "54 46 0.004268529297632906\n",
      "58 69 0.004656577415599534\n",
      "64 54 0.008537058595265812\n",
      "66 69 0.004268529297632906\n",
      "67 69 0.0038804811796662787\n",
      "68 65 0.004268529297632906\n",
      "81 88 0.004268529297632906\n",
      "89 66 0.0038804811796662787\n",
      "135 125 0.030267753201396973\n",
      "139 151 0.033372138145129994\n",
      "139 168 0.03841676367869616\n",
      "140 145 0.03143189755529686\n",
      "144 130 0.023282887077997673\n",
      "145 185 0.04074505238649592\n",
      "152 141 0.03259604190919674\n",
      "153 155 0.03453628249902988\n",
      "160 158 0.029879705083430345\n",
      "173 146 0.0306558013193636\n",
      "198 224 0.04346138921226232\n",
      "208 194 0.04307334109429569\n",
      "212 182 0.041133100504462554\n",
      "235 191 0.03608847497089639\n",
      "241 202 0.04578967792006209\n"
     ]
    }
   ],
   "source": [
    "for t_ in range(300):\n",
    "    for g_ in range(300):\n",
    "        count_stats = [t == t_ and g == g_ for t, g in zip(test_same, gen_same)]\n",
    "        if any(count_stats):\n",
    "            print(t_, g_, np.mean(count_stats))"
   ]
  },
  {
   "cell_type": "code",
   "execution_count": null,
   "id": "lovely-tattoo",
   "metadata": {},
   "outputs": [],
   "source": []
  }
 ],
 "metadata": {
  "kernelspec": {
   "display_name": "Python 3",
   "language": "python",
   "name": "python3"
  },
  "language_info": {
   "codemirror_mode": {
    "name": "ipython",
    "version": 3
   },
   "file_extension": ".py",
   "mimetype": "text/x-python",
   "name": "python",
   "nbconvert_exporter": "python",
   "pygments_lexer": "ipython3",
   "version": "3.8.5"
  }
 },
 "nbformat": 4,
 "nbformat_minor": 5
}
